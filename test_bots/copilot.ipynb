{
 "cells": [
  {
   "cell_type": "code",
   "execution_count": 1,
   "id": "47d9b9b3-61b8-415a-8cc3-36bab522054a",
   "metadata": {
    "tags": []
   },
   "outputs": [
    {
     "name": "stdout",
     "output_type": "stream",
     "text": [
      "{'011': 1}\n"
     ]
    }
   ],
   "source": [
    "\n",
    "from qiskit import QuantumCircuit, Aer, execute\n",
    "\n",
    "# Create a quantum circuit with 3 qubits and 3 classical bits\n",
    "circuit = QuantumCircuit(3, 3)\n",
    "\n",
    "# Apply X gate to the first and second qubits to set them to |1>\n",
    "circuit.x(0)\n",
    "circuit.x(1)\n",
    "\n",
    "# Apply CX (CNOT) gate to perform addition\n",
    "circuit.cx(0, 2)\n",
    "circuit.cx(1, 2)\n",
    "\n",
    "# Measure the qubits and store the results in classical bits\n",
    "circuit.measure([0, 1, 2], [0, 1, 2])\n",
    "\n",
    "# Simulate the circuit using the qasm_simulator\n",
    "simulator = Aer.get_backend('qasm_simulator')\n",
    "job = execute(circuit, simulator, shots=1)\n",
    "\n",
    "# Get the result\n",
    "result = job.result()\n",
    "counts = result.get_counts(circuit)\n",
    "\n",
    "# Print the binary result\n",
    "print(counts)\n"
   ]
  },
  {
   "cell_type": "code",
   "execution_count": 2,
   "id": "e8e53e7b-68b2-4c7e-98fe-3ff64a29d195",
   "metadata": {
    "tags": []
   },
   "outputs": [
    {
     "name": "stdout",
     "output_type": "stream",
     "text": [
      "{'011': 1}\n"
     ]
    }
   ],
   "source": [
    "\n",
    "from qiskit import QuantumCircuit, Aer, execute\n",
    "\n",
    "# Create a quantum circuit with 3 qubits and 3 classical bits\n",
    "circuit = QuantumCircuit(3, 3)\n",
    "\n",
    "# Apply X gate to the first and second qubits to set them to |1>\n",
    "circuit.x(0)\n",
    "circuit.x(1)\n",
    "\n",
    "# Apply CX (CNOT) gate to perform addition\n",
    "circuit.cx(0, 2)\n",
    "circuit.cx(1, 2)\n",
    "\n",
    "# Measure the qubits and store the results in classical bits\n",
    "circuit.measure([0, 1, 2], [0, 1, 2])\n",
    "\n",
    "# Simulate the circuit using the Aer simulator\n",
    "simulator = Aer.get_backend('qasm_simulator')\n",
    "job = execute(circuit, simulator, shots=1)\n",
    "\n",
    "# Get the result\n",
    "result = job.result()\n",
    "counts = result.get_counts(circuit)\n",
    "\n",
    "# Print the binary result\n",
    "print(counts)\n"
   ]
  },
  {
   "cell_type": "code",
   "execution_count": 3,
   "id": "0c6f375e-c409-4ec4-be62-4a9465d6c1f0",
   "metadata": {
    "tags": []
   },
   "outputs": [
    {
     "name": "stdout",
     "output_type": "stream",
     "text": [
      "{'011': 1}\n"
     ]
    }
   ],
   "source": [
    "from qiskit import QuantumCircuit, Aer, execute\n",
    "\n",
    "# Create a quantum circuit with 3 qubits and 3 classical bits\n",
    "circuit = QuantumCircuit(3, 3)\n",
    "\n",
    "# Apply X gate to the first and second qubits to set them to |1>\n",
    "circuit.x(0)\n",
    "circuit.x(1)\n",
    "\n",
    "# Apply CX (CNOT) gate to perform addition\n",
    "circuit.cx(0, 2)\n",
    "circuit.cx(1, 2)\n",
    "\n",
    "# Measure the qubits and store the results in classical bits\n",
    "circuit.measure([0, 1, 2], [0, 1, 2])\n",
    "\n",
    "# Simulate the circuit using the qasm simulator\n",
    "simulator = Aer.get_backend('qasm_simulator')\n",
    "job = execute(circuit, simulator, shots=1)\n",
    "\n",
    "# Get the result\n",
    "result = job.result()\n",
    "counts = result.get_counts(circuit)\n",
    "\n",
    "# Print the result\n",
    "print(counts)\n"
   ]
  },
  {
   "cell_type": "code",
   "execution_count": 4,
   "id": "23762138-d040-438f-9f2b-d04d3f0ff1d5",
   "metadata": {
    "tags": []
   },
   "outputs": [
    {
     "name": "stdout",
     "output_type": "stream",
     "text": [
      "{'111': 1}\n"
     ]
    }
   ],
   "source": [
    "\n",
    "from qiskit import QuantumCircuit, Aer, execute\n",
    "\n",
    "# Create a quantum circuit with 3 qubits and 3 classical bits\n",
    "circuit = QuantumCircuit(3, 3)\n",
    "\n",
    "# Apply X gates to the first and second qubits to represent the inputs 10 and 10\n",
    "circuit.x(0)\n",
    "circuit.x(1)\n",
    "\n",
    "# Apply a Toffoli gate to perform the addition\n",
    "circuit.ccx(0, 1, 2)\n",
    "\n",
    "# Measure the qubits and store the results in the classical bits\n",
    "circuit.measure([0, 1, 2], [0, 1, 2])\n",
    "\n",
    "# Simulate the circuit using the Aer simulator\n",
    "simulator = Aer.get_backend('qasm_simulator')\n",
    "job = execute(circuit, simulator, shots=1)\n",
    "\n",
    "# Get the result of the simulation\n",
    "result = job.result()\n",
    "counts = result.get_counts(circuit)\n",
    "\n",
    "# Print the binary representation of the result\n",
    "print(counts)\n"
   ]
  },
  {
   "cell_type": "code",
   "execution_count": 5,
   "id": "f0c21cd8-7acf-4ab4-b5f9-9a46c382bcbb",
   "metadata": {
    "tags": []
   },
   "outputs": [
    {
     "name": "stdout",
     "output_type": "stream",
     "text": [
      "{'111': 1}\n"
     ]
    }
   ],
   "source": [
    "\n",
    "from qiskit import QuantumCircuit, Aer, execute\n",
    "\n",
    "# Create a quantum circuit with 3 qubits and 3 classical bits\n",
    "circuit = QuantumCircuit(3, 3)\n",
    "\n",
    "# Apply X gates to the first and second qubits to set them to |1>\n",
    "circuit.x(0)\n",
    "circuit.x(1)\n",
    "\n",
    "# Apply a Toffoli gate to perform the addition\n",
    "circuit.ccx(0, 1, 2)\n",
    "\n",
    "# Measure the qubits and store the results in the classical bits\n",
    "circuit.measure([0, 1, 2], [0, 1, 2])\n",
    "\n",
    "# Simulate the circuit using the statevector simulator\n",
    "simulator = Aer.get_backend('statevector_simulator')\n",
    "job = execute(circuit, simulator)\n",
    "result = job.result()\n",
    "counts = result.get_counts(circuit)\n",
    "\n",
    "# Print the binary result\n",
    "print(counts)\n"
   ]
  },
  {
   "cell_type": "code",
   "execution_count": 6,
   "id": "ae9cf887-ab81-48a5-ac28-fd0890e1abc8",
   "metadata": {
    "tags": []
   },
   "outputs": [
    {
     "name": "stdout",
     "output_type": "stream",
     "text": [
      "The output is 101\n"
     ]
    }
   ],
   "source": [
    "\n",
    "from qiskit import QuantumCircuit, Aer, execute\n",
    "\n",
    "# Create a quantum circuit with 3 qubits and 3 classical bits\n",
    "qc = QuantumCircuit(3, 3)\n",
    "\n",
    "# Prepare the input states |10>\n",
    "qc.x(0)\n",
    "\n",
    "# Apply the addition operation\n",
    "qc.cx(0, 2)\n",
    "qc.cx(1, 2)\n",
    "\n",
    "# Measure the qubits\n",
    "qc.measure([0, 1, 2], [0, 1, 2])\n",
    "\n",
    "# Simulate the circuit\n",
    "simulator = Aer.get_backend('qasm_simulator')\n",
    "job = execute(qc, simulator, shots=1)\n",
    "\n",
    "# Get the result\n",
    "result = job.result()\n",
    "counts = result.get_counts(qc)\n",
    "output = next(iter(counts))\n",
    "\n",
    "# Print the result\n",
    "print(f\"The output is {output}\")\n"
   ]
  },
  {
   "cell_type": "code",
   "execution_count": 7,
   "id": "05a3ef94-988f-4345-8df2-ad7d872279ef",
   "metadata": {
    "tags": []
   },
   "outputs": [
    {
     "name": "stdout",
     "output_type": "stream",
     "text": [
      "{'101': 1}\n"
     ]
    }
   ],
   "source": [
    "\n",
    "from qiskit import QuantumCircuit, transpile, assemble, Aer, execute\n",
    "\n",
    "# Create a quantum circuit with 3 qubits and 3 classical bits\n",
    "qc = QuantumCircuit(3, 3)\n",
    "\n",
    "# Initialize the input qubits to |10>\n",
    "qc.x(0)\n",
    "\n",
    "# Perform addition using quantum gates\n",
    "qc.cx(0, 2)\n",
    "qc.cx(1, 2)\n",
    "\n",
    "# Measure the output qubits\n",
    "qc.measure([2, 1, 0], [2, 1, 0])\n",
    "\n",
    "# Simulate the circuit\n",
    "simulator = Aer.get_backend('qasm_simulator')\n",
    "job = execute(qc, simulator, shots=1)\n",
    "\n",
    "# Get the result\n",
    "result = job.result()\n",
    "counts = result.get_counts(qc)\n",
    "print(counts)\n"
   ]
  },
  {
   "cell_type": "code",
   "execution_count": 8,
   "id": "dec183c9-cf99-4e6f-89c8-99a88a95b68f",
   "metadata": {
    "tags": []
   },
   "outputs": [
    {
     "name": "stdout",
     "output_type": "stream",
     "text": [
      "{'011': 1}\n"
     ]
    }
   ],
   "source": [
    "\n",
    "from qiskit import QuantumCircuit, Aer, execute\n",
    "\n",
    "# Create a quantum circuit with 3 qubits and 3 classical bits\n",
    "qc = QuantumCircuit(3, 3)\n",
    "\n",
    "# Apply X gate to the first qubit to set it to |1>\n",
    "qc.x(0)\n",
    "\n",
    "# Apply X gate to the second qubit to set it to |1>\n",
    "qc.x(1)\n",
    "\n",
    "# Apply CX (CNOT) gate to compute the sum\n",
    "qc.cx(0, 2)\n",
    "qc.cx(1, 2)\n",
    "\n",
    "# Measure the qubits and store the result in classical bits\n",
    "qc.measure(range(3), range(3))\n",
    "\n",
    "# Simulate the quantum circuit\n",
    "simulator = Aer.get_backend('qasm_simulator')\n",
    "job = execute(qc, simulator, shots=1)\n",
    "\n",
    "# Get the result\n",
    "result = job.result()\n",
    "counts = result.get_counts(qc)\n",
    "\n",
    "# Print the result\n",
    "print(counts)"
   ]
  },
  {
   "cell_type": "code",
   "execution_count": null,
   "id": "1c0d0dd6-d8f9-4fbe-ab36-5be1b720e2a6",
   "metadata": {},
   "outputs": [],
   "source": []
  }
 ],
 "metadata": {
  "kernelspec": {
   "display_name": "Python 3 (ipykernel)",
   "language": "python",
   "name": "python3"
  },
  "language_info": {
   "codemirror_mode": {
    "name": "ipython",
    "version": 3
   },
   "file_extension": ".py",
   "mimetype": "text/x-python",
   "name": "python",
   "nbconvert_exporter": "python",
   "pygments_lexer": "ipython3",
   "version": "3.10.12"
  }
 },
 "nbformat": 4,
 "nbformat_minor": 5
}
